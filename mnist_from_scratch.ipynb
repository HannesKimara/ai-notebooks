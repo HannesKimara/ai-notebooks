{
 "cells": [
  {
   "cell_type": "code",
   "execution_count": 1,
   "id": "0581fbae-ff6a-44e9-875b-f456bf147fee",
   "metadata": {},
   "outputs": [],
   "source": [
    "import numpy as np\n",
    "import matplotlib.pyplot as plt\n",
    "from tqdm.notebook import tqdm, trange"
   ]
  },
  {
   "cell_type": "code",
   "execution_count": 2,
   "id": "4619bda0-75cd-45a7-9be4-32183c5b9b6e",
   "metadata": {},
   "outputs": [],
   "source": [
    "def fetch_mnist(url: str):\n",
    "    import requests, gzip, hashlib, tempfile, os\n",
    "    \n",
    "    tmp_path = os.path.join(tempfile.gettempdir(), hashlib.md5(url.encode('utf-8')).hexdigest())\n",
    "    if os.path.exists(tmp_path):\n",
    "        with open(tmp_path, 'rb') as f:\n",
    "            data = f.read()\n",
    "    else:\n",
    "        res = requests.get(url, stream=True)\n",
    "        total = res.headers.get('content-length')\n",
    "        \n",
    "        if total is None:\n",
    "            total = 0\n",
    "        \n",
    "        total = int(total)\n",
    "        \n",
    "        block_size = 1024\n",
    "        progress_bar = tqdm(total=total, unit='iB', unit_scale=True)\n",
    "        \n",
    "        with open(tmp_path, 'wb+') as f:\n",
    "            for iter_data in res.iter_content(block_size):\n",
    "                progress_bar.update(len(iter_data))\n",
    "                f.write(iter_data)\n",
    "            data = f.read()\n",
    "        progress_bar.close()\n",
    "\n",
    "    return np.frombuffer(gzip.decompress(data), dtype=np.uint8).copy()\n",
    "\n",
    "\n",
    "X_train = fetch_mnist('http://yann.lecun.com/exdb/mnist/train-images-idx3-ubyte.gz')[16:].reshape(-1, 28, 28)\n",
    "Y_train = fetch_mnist('http://yann.lecun.com/exdb/mnist/train-labels-idx1-ubyte.gz')[8:]\n",
    "X_test = fetch_mnist('http://yann.lecun.com/exdb/mnist/t10k-images-idx3-ubyte.gz')[16:].reshape(-1, 28, 28)\n",
    "Y_test = fetch_mnist('http://yann.lecun.com/exdb/mnist/t10k-labels-idx1-ubyte.gz')[8:]"
   ]
  },
  {
   "cell_type": "code",
   "execution_count": 3,
   "id": "28357c07-a8c8-48dc-9ba4-34adea68605f",
   "metadata": {},
   "outputs": [],
   "source": [
    "X_train = (X_train / 255.).reshape((-1, 28 * 28))\n",
    "X_test = (X_test / 255.).reshape((-1, 28 * 28))"
   ]
  },
  {
   "cell_type": "code",
   "execution_count": 4,
   "id": "829f4240-e32d-4207-b7c0-b9fe3022c285",
   "metadata": {},
   "outputs": [],
   "source": [
    "def to_categorical(y, num_classes=10):\n",
    "    return np.eye(num_classes)[y]\n",
    "\n",
    "Y_train = to_categorical(Y_train)\n",
    "Y_test = to_categorical(Y_test)"
   ]
  },
  {
   "cell_type": "code",
   "execution_count": 5,
   "id": "77b54417-7579-4a1a-90a3-50669c956ba3",
   "metadata": {},
   "outputs": [],
   "source": [
    "class Linear:\n",
    "    def __init__(self, input_size, output_size, bias=True):\n",
    "        self.params = {}\n",
    "        self.grads = {}\n",
    "        self.params[\"w\"] = np.random.uniform(-1., 1., size=(input_size, output_size))/np.sqrt(input_size*output_size)\n",
    "\n",
    "        if bias:\n",
    "            self.params[\"b\"] = np.random.uniform(-1., 1., size=(output_size))/np.sqrt(output_size)\n",
    "\n",
    "        else:\n",
    "            self.params['b'] = np.zeros_like(output_size)\n",
    "\n",
    "    def forward(self, x):\n",
    "        self.x = x\n",
    "        return np.dot(self.x, self.params['w']) + self.params['b']\n",
    "    \n",
    "    def backward(self, grad):\n",
    "        self.grads['b'] = np.sum(grad)\n",
    "        self.grads['w'] = self.x.T @ grad \n",
    "\n",
    "        return grad @ self.params['w'].T\n",
    "\n",
    "    def __call__(self, inputs):\n",
    "        return self.forward(inputs)"
   ]
  },
  {
   "cell_type": "code",
   "execution_count": 6,
   "id": "f7d0e9ff-1a5d-4991-a3f7-6dfdf939f1ff",
   "metadata": {},
   "outputs": [],
   "source": [
    "class MSE:\n",
    "    # Not really Mean Squared Error\n",
    "    def loss(self, yHat, y):\n",
    "        return np.sum((yHat - y)**2, axis=1)\n",
    "    \n",
    "    def grad(self, yHat, y):\n",
    "        return 2 * (yHat - y)\n",
    "\n",
    "    def __call__(self, yHat, y):\n",
    "        return self.loss(yHat, y)"
   ]
  },
  {
   "cell_type": "code",
   "execution_count": 7,
   "id": "e4f63fff-7ed0-44fe-a46b-d6e3d6823524",
   "metadata": {},
   "outputs": [],
   "source": [
    "class BatchIterator:\n",
    "    def __init__(self, x, y, batch_size=32, shuffle=True):\n",
    "        self.batch_size = batch_size\n",
    "        self.shuffle = shuffle\n",
    "        self.x = x\n",
    "        self.y = y\n",
    "        self.batch_iter_count = round(len(self.x) / self.batch_size)\n",
    "        \n",
    "    def __call__(self):\n",
    "        assert len(self.x) == len(self.y)\n",
    "        starts = np.arange(0, len(self.x), self.batch_size)\n",
    "        \n",
    "        if self.shuffle:\n",
    "            np.random.shuffle(starts)\n",
    "        \n",
    "        for start in starts:\n",
    "            end = start + self.batch_size\n",
    "            batch_x = self.x[start:end]\n",
    "            batch_y = self.y[start:end]\n",
    "            \n",
    "            yield (batch_x, batch_y)"
   ]
  },
  {
   "cell_type": "code",
   "execution_count": 8,
   "id": "cdfd2518-a0f7-4b9d-8f38-45d77532080d",
   "metadata": {},
   "outputs": [],
   "source": [
    "class SGD:\n",
    "    def __init__(self, lr=1e-3):\n",
    "        self.lr = lr\n",
    "        \n",
    "    def step(self, model):\n",
    "        for param, grad in model.get_params_and_grads():\n",
    "            param -= self.lr * grad"
   ]
  },
  {
   "cell_type": "code",
   "execution_count": 9,
   "id": "8d73c854-3b4a-4c43-8cc2-f875584129b2",
   "metadata": {},
   "outputs": [],
   "source": [
    "class Model:\n",
    "    def __init__(self, layers):\n",
    "        self.layers = layers\n",
    "        \n",
    "    def forward(self, x):\n",
    "        for layer in self.layers:\n",
    "            x = layer(x)\n",
    "        return x\n",
    "    \n",
    "    def backward(self, grad):\n",
    "        for layer in reversed(self.layers):\n",
    "            grad = layer.backward(grad)\n",
    "\n",
    "        return grad\n",
    "    \n",
    "    def fit(self, batch_dataset, epochs = 10, loss = MSE(), optim = SGD(), validation_data=()):\n",
    "        history = {\n",
    "            'train_loss': [],\n",
    "            'val_accuracy': [],\n",
    "            'val_loss': []\n",
    "        }\n",
    "\n",
    "        for epoch in range(epochs):\n",
    "            epoch_loss = 0.0\n",
    "            batch_iterator = tqdm(batch_dataset(), total=batch_dataset.batch_iter_count, unit=' batch(s)')\n",
    "            for idx, batch in enumerate(batch_iterator):\n",
    "                yHat = self.forward(batch[0])\n",
    "                epoch_loss += loss.loss(yHat, batch[-1])\n",
    "                grad = loss.grad(yHat, batch[-1])\n",
    "                self.backward(grad)\n",
    "                optim.step(self)\n",
    "                batch_iterator.set_description(f\"Epoch {epoch + 1}/{epochs}\")\n",
    "                ## batch_iterator.set_postfix({f\"batch_accuracy\": pvalue(batch[0], batch[-1])})\n",
    "                \n",
    "                if idx == batch_dataset.batch_iter_count - 1:\n",
    "                    val_loss = np.average(loss.loss(self.forward(validation_data[0]), validation_data[-1]))\n",
    "                    val_accuracy = self.evaluate(*validation_data)\n",
    "                    batch_iterator.set_postfix({\n",
    "                        'val_accuracy': val_accuracy,\n",
    "                        'val_loss': val_loss\n",
    "                })\n",
    "                    \n",
    "            epoch_loss /= idx\n",
    "            history['train_loss'].append(epoch_loss)\n",
    "            history['val_accuracy'].append(val_accuracy)\n",
    "            history['val_loss'].append(val_loss)\n",
    "        \n",
    "        history['train_loss'] = np.average(np.array(history['train_loss']), axis=1)\n",
    "        history['val_accuracy'] = np.array(history['val_accuracy'])\n",
    "                \n",
    "        return history\n",
    "    \n",
    "    def get_params_and_grads(self):\n",
    "        for layer in self.layers:\n",
    "            for name, param in layer.params.items():\n",
    "                grad = layer.grads[name]\n",
    "                yield param, grad\n",
    "\n",
    "    def __call__(self, x):\n",
    "        return self.forward(x)\n",
    "    \n",
    "    def evaluate(self, x_test, y):\n",
    "        return evaluate_model(self, x_test, y)\n",
    "    \n",
    "def evaluate_model(model, x_test, y):\n",
    "    y_mega_hat = model.forward(x_test)\n",
    "    preds = np.array([np.argmax(i) for i in y_mega_hat])\n",
    "    actuals = np.array([np.argmax(i) for i in y])\n",
    "    simi = preds == actuals\n",
    "    \n",
    "    return np.count_nonzero(simi)/len(simi)"
   ]
  },
  {
   "cell_type": "code",
   "execution_count": 10,
   "id": "6a04f5b2-5b26-487e-8d5e-e44cde82fe87",
   "metadata": {},
   "outputs": [],
   "source": [
    "class ReLu:\n",
    "    def __init__(self):\n",
    "        self.params = {}\n",
    "        self.grads = {}\n",
    "\n",
    "    def forward(self, x):\n",
    "        self.x = x\n",
    "        return np.maximum(0, self.x)\n",
    "        \n",
    "    def backward(self, grad):\n",
    "        return 1 * (self.x > 0) * grad\n",
    "\n",
    "    def __call__(self, x):\n",
    "        return self.forward(x)"
   ]
  },
  {
   "cell_type": "code",
   "execution_count": 11,
   "id": "ef040fa2-884a-49c2-a0df-01752eb9ea33",
   "metadata": {},
   "outputs": [],
   "source": [
    "input_shape = np.product(X_train[0].shape)\n",
    "\n",
    "\n",
    "model = Model([\n",
    "    Linear(input_shape, 128),\n",
    "    ReLu(),\n",
    "    Linear(128, 64),\n",
    "    ReLu(),\n",
    "    Linear(64, 10)\n",
    "])"
   ]
  },
  {
   "cell_type": "code",
   "execution_count": 12,
   "id": "d76df448-50be-4e2b-8ece-71fa56ac4ecf",
   "metadata": {},
   "outputs": [
    {
     "name": "stdout",
     "output_type": "stream",
     "text": [
      "Accuracy: 0.1032\n"
     ]
    }
   ],
   "source": [
    "accuracy = model.evaluate(X_test, Y_test)\n",
    "print(f\"Accuracy: {accuracy}\")"
   ]
  },
  {
   "cell_type": "code",
   "execution_count": 13,
   "id": "319473ba-952e-4784-80cf-034c6d0dc187",
   "metadata": {},
   "outputs": [
    {
     "data": {
      "application/vnd.jupyter.widget-view+json": {
       "model_id": "5c4bd14882494be2b5edcfdcb1e4d7df",
       "version_major": 2,
       "version_minor": 0
      },
      "text/plain": [
       "  0%|          | 0/1875 [00:00<?, ? batch(s)/s]"
      ]
     },
     "metadata": {},
     "output_type": "display_data"
    },
    {
     "data": {
      "application/vnd.jupyter.widget-view+json": {
       "model_id": "0afb1e618bf7497d8141a5f8e5f20498",
       "version_major": 2,
       "version_minor": 0
      },
      "text/plain": [
       "  0%|          | 0/1875 [00:00<?, ? batch(s)/s]"
      ]
     },
     "metadata": {},
     "output_type": "display_data"
    },
    {
     "data": {
      "application/vnd.jupyter.widget-view+json": {
       "model_id": "2d88827b9e6e49edbdadf3c672fb7da1",
       "version_major": 2,
       "version_minor": 0
      },
      "text/plain": [
       "  0%|          | 0/1875 [00:00<?, ? batch(s)/s]"
      ]
     },
     "metadata": {},
     "output_type": "display_data"
    },
    {
     "data": {
      "application/vnd.jupyter.widget-view+json": {
       "model_id": "d232907f0b8d4c669e1513f17fff9642",
       "version_major": 2,
       "version_minor": 0
      },
      "text/plain": [
       "  0%|          | 0/1875 [00:00<?, ? batch(s)/s]"
      ]
     },
     "metadata": {},
     "output_type": "display_data"
    },
    {
     "data": {
      "application/vnd.jupyter.widget-view+json": {
       "model_id": "9fbd47443d5749be98730018c5ea98e1",
       "version_major": 2,
       "version_minor": 0
      },
      "text/plain": [
       "  0%|          | 0/1875 [00:00<?, ? batch(s)/s]"
      ]
     },
     "metadata": {},
     "output_type": "display_data"
    },
    {
     "data": {
      "application/vnd.jupyter.widget-view+json": {
       "model_id": "21a390a086934c6b8644b6ffdf1aa9b3",
       "version_major": 2,
       "version_minor": 0
      },
      "text/plain": [
       "  0%|          | 0/1875 [00:00<?, ? batch(s)/s]"
      ]
     },
     "metadata": {},
     "output_type": "display_data"
    },
    {
     "data": {
      "application/vnd.jupyter.widget-view+json": {
       "model_id": "5b215ab939dd4cd4b3d362183d2151c3",
       "version_major": 2,
       "version_minor": 0
      },
      "text/plain": [
       "  0%|          | 0/1875 [00:00<?, ? batch(s)/s]"
      ]
     },
     "metadata": {},
     "output_type": "display_data"
    },
    {
     "data": {
      "application/vnd.jupyter.widget-view+json": {
       "model_id": "dcbaf29e48584af3b27d3e374c550488",
       "version_major": 2,
       "version_minor": 0
      },
      "text/plain": [
       "  0%|          | 0/1875 [00:00<?, ? batch(s)/s]"
      ]
     },
     "metadata": {},
     "output_type": "display_data"
    },
    {
     "data": {
      "application/vnd.jupyter.widget-view+json": {
       "model_id": "1d46564e5a9049eb96b2633011a945f0",
       "version_major": 2,
       "version_minor": 0
      },
      "text/plain": [
       "  0%|          | 0/1875 [00:00<?, ? batch(s)/s]"
      ]
     },
     "metadata": {},
     "output_type": "display_data"
    },
    {
     "data": {
      "application/vnd.jupyter.widget-view+json": {
       "model_id": "00d25cfbdbee4f2586ce6cd7c4543bcc",
       "version_major": 2,
       "version_minor": 0
      },
      "text/plain": [
       "  0%|          | 0/1875 [00:00<?, ? batch(s)/s]"
      ]
     },
     "metadata": {},
     "output_type": "display_data"
    }
   ],
   "source": [
    "history = model.fit(BatchIterator(X_train, Y_train), epochs=10, validation_data=(X_test, Y_test))"
   ]
  },
  {
   "cell_type": "code",
   "execution_count": 14,
   "id": "02b74352-cadd-494c-a26c-a6761352bd3c",
   "metadata": {},
   "outputs": [
    {
     "data": {
      "image/png": "[encoded data removed]",
      "text/plain": [
       "<Figure size 432x288 with 1 Axes>"
      ]
     },
     "metadata": {
      "needs_background": "light"
     },
     "output_type": "display_data"
    }
   ],
   "source": [
    "epochs = np.arange(len(history['train_loss']))\n",
    "plt.plot(epochs, history['train_loss'], history['val_loss'])\n",
    "plt.legend(['train_loss', 'val_loss'])\n",
    "plt.show()"
   ]
  },
  {
   "cell_type": "code",
   "execution_count": 15,
   "id": "7543fcda-4502-41eb-840d-0c27bb1e5ac0",
   "metadata": {},
   "outputs": [
    {
     "data": {
      "image/png": "[encoded data removed]",
      "text/plain": [
       "<Figure size 432x288 with 1 Axes>"
      ]
     },
     "metadata": {
      "needs_background": "light"
     },
     "output_type": "display_data"
    }
   ],
   "source": [
    "index = np.random.choice(len(X_test))\n",
    "pred = np.argmax(model.forward(X_test[index]))\n",
    "\n",
    "plt.imshow(X_test[index].reshape(28, 28))\n",
    "plt.title(f\"Prediction: {pred} Actual: {np.argmax(Y_test[index])}\")\n",
    "plt.show()"
   ]
  }
 ],
 "metadata": {
  "kernelspec": {
   "display_name": "Python 3 (ipykernel)",
   "language": "python",
   "name": "python3"
  },
  "language_info": {
   "codemirror_mode": {
    "name": "ipython",
    "version": 3
   },
   "file_extension": ".py",
   "mimetype": "text/x-python",
   "name": "python",
   "nbconvert_exporter": "python",
   "pygments_lexer": "ipython3",
   "version": "3.8.5"
  }
 },
 "nbformat": 4,
 "nbformat_minor": 5
}
